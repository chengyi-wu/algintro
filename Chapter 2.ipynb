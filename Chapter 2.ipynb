{
 "cells": [
  {
   "cell_type": "code",
   "execution_count": 1,
   "metadata": {
    "collapsed": true
   },
   "outputs": [],
   "source": [
    "import random\n",
    "def sortTest(fn_sort):\n",
    "    A = random.sample(range(1000), 20)\n",
    "    print(A)\n",
    "    A = fn_sort(A)\n",
    "    print(A)"
   ]
  },
  {
   "cell_type": "markdown",
   "metadata": {},
   "source": [
    "# 2-1 Insertion sort on small arrays in merge sort"
   ]
  },
  {
   "cell_type": "code",
   "execution_count": 2,
   "metadata": {
    "collapsed": true
   },
   "outputs": [],
   "source": [
    "def mergeSort(A):\n",
    "    n = len(A)\n",
    "    if n == 0 or n == 1:\n",
    "        return A\n",
    "    left = mergeSort(A[:n // 2])\n",
    "    right = mergeSort(A[n // 2:])\n",
    "    \n",
    "    result = []\n",
    "    i, j = 0, 0\n",
    "    while i < len(left) or j < len(right):\n",
    "        if i >= len(left) and j < len(right):\n",
    "            result.append(right[j])\n",
    "            j += 1\n",
    "        if i < len(left) and j >= len(right):\n",
    "            result.append(left[i])\n",
    "            i += 1\n",
    "        if i < len(left) and j < len(right):\n",
    "            if left[i] < right[j]:\n",
    "                result.append(left[i])\n",
    "                i += 1\n",
    "            else:\n",
    "                result.append(right[j])\n",
    "                j += 1\n",
    "    return result            "
   ]
  },
  {
   "cell_type": "code",
   "execution_count": 3,
   "metadata": {},
   "outputs": [
    {
     "name": "stdout",
     "output_type": "stream",
     "text": [
      "[418, 824, 491, 613, 127, 536, 890, 868, 99, 495, 30, 605, 421, 368, 66, 444, 131, 963, 442, 813]\n",
      "[30, 66, 99, 127, 131, 368, 418, 421, 442, 444, 491, 495, 536, 605, 613, 813, 824, 868, 890, 963]\n"
     ]
    }
   ],
   "source": [
    "sortTest(mergeSort)"
   ]
  },
  {
   "cell_type": "markdown",
   "metadata": {},
   "source": [
    "### Insertion Sort"
   ]
  },
  {
   "cell_type": "code",
   "execution_count": 4,
   "metadata": {
    "collapsed": true
   },
   "outputs": [],
   "source": [
    "def insertionSort(A):\n",
    "    for i in range(len(A)):\n",
    "        j = i - 1\n",
    "        t = A[i]\n",
    "        while j >= 0 and A[j] >= t:\n",
    "            A[j + 1] = A[j]\n",
    "            j -= 1\n",
    "        A[j + 1] = t\n",
    "    return A"
   ]
  },
  {
   "cell_type": "code",
   "execution_count": 5,
   "metadata": {},
   "outputs": [
    {
     "name": "stdout",
     "output_type": "stream",
     "text": [
      "[985, 647, 5, 63, 94, 206, 612, 684, 273, 493, 833, 805, 594, 272, 249, 276, 698, 795, 538, 76]\n",
      "[5, 63, 76, 94, 206, 249, 272, 273, 276, 493, 538, 594, 612, 647, 684, 698, 795, 805, 833, 985]\n"
     ]
    }
   ],
   "source": [
    "sortTest(insertionSort)"
   ]
  },
  {
   "cell_type": "code",
   "execution_count": 6,
   "metadata": {},
   "outputs": [],
   "source": [
    "def mergeSortwInsertion(A, k = 100):\n",
    "    # merge k sorted list\n",
    "    if len(A) <= k:\n",
    "        insertionSort(A)\n",
    "        return A"
   ]
  },
  {
   "cell_type": "markdown",
   "metadata": {
    "collapsed": true
   },
   "source": [
    "# 2 - 2 Bubblesort\n",
    "[Bubblesort](http://interactivepython.org/runestone/static/pythonds/SortSearch/TheBubbleSort.html) is a popular, but inefficient sorting algorithm. It works by repeatedly swapping adjacent element that are out of order.\n",
    "![bubblesort](http://interactivepython.org/runestone/static/pythonds/_images/bubblepass.png)"
   ]
  },
  {
   "cell_type": "code",
   "execution_count": 7,
   "metadata": {
    "collapsed": true
   },
   "outputs": [],
   "source": [
    "def swap(A, i, j):\n",
    "    A[i], A[j] = A[j], A[i]\n",
    "    return\n",
    "    \n",
    "def bubblesort(A):\n",
    "    # the modified algorithm to detect if the input is out of order\n",
    "    # if the input is in the right order, then one pass and bale out.\n",
    "    # otherwise, continue.\n",
    "    bInoder = True\n",
    "    for i in range(len(A)):\n",
    "        if i == 0 or not bInorder:\n",
    "            for j in reversed(range(i + 1, len(A))):\n",
    "                if A[j] < A[j - 1]:\n",
    "                    swap(A, j - 1, j)\n",
    "                    bInorder = False\n",
    "    return A"
   ]
  },
  {
   "cell_type": "code",
   "execution_count": 8,
   "metadata": {},
   "outputs": [
    {
     "name": "stdout",
     "output_type": "stream",
     "text": [
      "[345, 464, 119, 68, 883, 221, 787, 997, 731, 46, 711, 337, 397, 921, 674, 367, 520, 78, 470, 209]\n",
      "[46, 68, 78, 119, 209, 221, 337, 345, 367, 397, 464, 470, 520, 674, 711, 731, 787, 883, 921, 997]\n"
     ]
    }
   ],
   "source": [
    "sortTest(bubblesort)"
   ]
  },
  {
   "cell_type": "markdown",
   "metadata": {},
   "source": [
    "# Selection sort\n",
    "[Selection sort](http://interactivepython.org/runestone/static/pythonds/SortSearch/TheSelectionSort.html) runs n passes and each pass picks the smallest element and put in the nth place. This makes an O(n^2) algorithm.\n",
    "![selectionsort](http://interactivepython.org/runestone/static/pythonds/_images/selectionsortnew.png)"
   ]
  },
  {
   "cell_type": "code",
   "execution_count": 9,
   "metadata": {},
   "outputs": [
    {
     "name": "stdout",
     "output_type": "stream",
     "text": [
      "[69, 747, 14, 199, 607, 190, 43, 966, 824, 623, 298, 157, 632, 867, 281, 799, 1, 140, 200, 338]\n",
      "[1, 14, 43, 69, 140, 157, 190, 199, 200, 281, 298, 338, 607, 623, 632, 747, 799, 824, 867, 966]\n"
     ]
    }
   ],
   "source": [
    "def selectionsort(A):\n",
    "    # this algorithm is inplace.\n",
    "    for i in range(len(A)):\n",
    "        x = i\n",
    "        for j in range(i, len(A)):\n",
    "            if A[x] > A[j]:\n",
    "                x = j\n",
    "        swap(A, x, i)\n",
    "    return A\n",
    "        \n",
    "sortTest(selectionsort)"
   ]
  },
  {
   "cell_type": "markdown",
   "metadata": {},
   "source": [
    "# Shellsort\n",
    "![Shellsort](http://interactivepython.org/runestone/static/pythonds/_images/shellsortB.png)"
   ]
  },
  {
   "cell_type": "code",
   "execution_count": 10,
   "metadata": {
    "collapsed": true
   },
   "outputs": [],
   "source": [
    "def shellsort(A):\n",
    "    k = 2\n",
    "    gap = len(A) // k\n",
    "    while gap > 0:\n",
    "        for i in range(gap):\n",
    "            insertionsortwithgap(A, i, gap)\n",
    "        print(\"gap={}\".format(gap))\n",
    "        print(A)\n",
    "        gap = gap // k\n",
    "    return A\n",
    "\n",
    "def insertionsortwithgap(A, start, gap):\n",
    "    for i in range(start + gap, len(A), gap):\n",
    "        t = A[i]\n",
    "        j = i\n",
    "        while j >= gap and A[j - gap] > t:\n",
    "            A[j] = A[j - gap]\n",
    "            j -= gap\n",
    "        A[j] = t"
   ]
  },
  {
   "cell_type": "code",
   "execution_count": 11,
   "metadata": {},
   "outputs": [
    {
     "name": "stdout",
     "output_type": "stream",
     "text": [
      "[129, 724, 156, 632, 200, 11, 464, 305, 842, 296, 66, 399, 979, 431, 768, 926, 982, 75, 746, 800]\n",
      "gap=10\n",
      "[66, 399, 156, 431, 200, 11, 464, 75, 746, 296, 129, 724, 979, 632, 768, 926, 982, 305, 842, 800]\n",
      "gap=5\n",
      "[11, 399, 75, 431, 200, 66, 464, 156, 632, 296, 129, 724, 305, 746, 768, 926, 982, 979, 842, 800]\n",
      "gap=2\n",
      "[11, 66, 75, 156, 129, 296, 200, 399, 305, 431, 464, 724, 632, 746, 768, 800, 842, 926, 982, 979]\n",
      "gap=1\n",
      "[11, 66, 75, 129, 156, 200, 296, 305, 399, 431, 464, 632, 724, 746, 768, 800, 842, 926, 979, 982]\n",
      "[11, 66, 75, 129, 156, 200, 296, 305, 399, 431, 464, 632, 724, 746, 768, 800, 842, 926, 979, 982]\n"
     ]
    }
   ],
   "source": [
    "sortTest(shellsort)"
   ]
  },
  {
   "cell_type": "markdown",
   "metadata": {},
   "source": [
    "# Quick sort\n",
    "Find a pivot(p), partition the array into two sub-arrays: one smaller than p, the other for the rest."
   ]
  },
  {
   "cell_type": "code",
   "execution_count": 12,
   "metadata": {
    "collapsed": true
   },
   "outputs": [],
   "source": [
    "def quicksort(A, q, r):\n",
    "    if q < r:\n",
    "        #print(A[q:r])\n",
    "        p = partition(A, q, r)\n",
    "        quicksort(A, q, p)\n",
    "        quicksort(A, p + 1, r)\n",
    "    \n",
    "def partition(A, q, r):\n",
    "    x = A[q]\n",
    "    j = q\n",
    "    for i in range(q + 1, r):\n",
    "        if A[i] < x:\n",
    "            j += 1\n",
    "            swap(A, j, i)\n",
    "    swap(A, j, q)\n",
    "    return j\n",
    "\n",
    "def qsort(A):\n",
    "    x = random.choice(range(0, len(A)))\n",
    "    swap(A, 0, x)\n",
    "    quicksort(A, 0, len(A))\n",
    "    return A"
   ]
  },
  {
   "cell_type": "code",
   "execution_count": 13,
   "metadata": {},
   "outputs": [
    {
     "name": "stdout",
     "output_type": "stream",
     "text": [
      "[737, 928, 479, 562, 655, 233, 44, 544, 689, 393, 618, 602, 743, 188, 901, 999, 454, 125, 915, 53]\n",
      "[44, 53, 125, 188, 233, 393, 454, 479, 544, 562, 602, 618, 655, 689, 737, 743, 901, 915, 928, 999]\n"
     ]
    }
   ],
   "source": [
    "sortTest(qsort)"
   ]
  },
  {
   "cell_type": "code",
   "execution_count": null,
   "metadata": {
    "collapsed": true
   },
   "outputs": [],
   "source": []
  }
 ],
 "metadata": {
  "kernelspec": {
   "display_name": "Python 3",
   "language": "python",
   "name": "python3"
  },
  "language_info": {
   "codemirror_mode": {
    "name": "ipython",
    "version": 3
   },
   "file_extension": ".py",
   "mimetype": "text/x-python",
   "name": "python",
   "nbconvert_exporter": "python",
   "pygments_lexer": "ipython3",
   "version": "3.6.1"
  }
 },
 "nbformat": 4,
 "nbformat_minor": 2
}
