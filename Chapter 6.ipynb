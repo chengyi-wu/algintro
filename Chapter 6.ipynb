{
 "cells": [
  {
   "cell_type": "markdown",
   "metadata": {},
   "source": [
    "# Heap\n",
    "Binary heap is an array object that can be viewed as a nearly **complete binary tree**. ![Complete binary tree](http://interactivepython.org/runestone/static/pythonds/_images/heapOrder.png)\n",
    "```python\n",
    "Parent(i):\n",
    "    return i // 2\n",
    "Left(i):\n",
    "    return 2 * i\n",
    "Right(i):\n",
    "    return 2 * i + 1\n",
    "```"
   ]
  },
  {
   "cell_type": "code",
   "execution_count": 1,
   "metadata": {
    "collapsed": true
   },
   "outputs": [],
   "source": [
    "def Parent(i):\n",
    "    return (i - 1) // 2\n",
    "def Left(i):\n",
    "    return 2 * i + 1\n",
    "def Right(i):\n",
    "    return 2 * i + 2\n",
    "\n",
    "def swap(A, i, j):\n",
    "    A[i], A[j] = A[j], A[i]"
   ]
  },
  {
   "cell_type": "markdown",
   "metadata": {
    "collapsed": true
   },
   "source": [
    "## min-heap *vs* max-heap\n",
    "In a *max-heap*, every node *i* other than the root, A[Parent(i)] >= A[i]. <br/>\n",
    "In a *min-heap*, every node *i* other than the root, A[parent(i)] <= A[i].\n",
    "\n",
    "## heapsort\n",
    "For heapsort algorithm, we uses max-heaps. Min-heaps commonly impletement priority queues."
   ]
  },
  {
   "cell_type": "markdown",
   "metadata": {},
   "source": [
    "# Maintaining the heap property\n",
    "In order to maintain the max-heap property, we call the procedure Max-Heapify. Its inputs are an array A and an index i into the array. When it's called, the procedure assumes that the binray trees rooted at Left(i) and right(i) are max-heaps, but that A[i] might be smaller than its children, thus violating the max-heap property. Max-Heapify lets the value at A[i] \"float down\" in the max-heap so that the sbutree rooted at index i obeys the max-heap property."
   ]
  },
  {
   "cell_type": "code",
   "execution_count": 2,
   "metadata": {},
   "outputs": [],
   "source": [
    "def MaxHeapify(A, i, heapsize):\n",
    "    l = Left(i)\n",
    "    r = Right(i)\n",
    "    \n",
    "    x = i\n",
    "    if l < heapsize and A[l] > A[x]:\n",
    "        x = l\n",
    "    if r < heapsize and A[r] > A[x]:\n",
    "        x = r\n",
    "        \n",
    "    if i != x:\n",
    "        swap(A, i, x)\n",
    "        MaxHeapify(A, x, heapsize)\n",
    "\n",
    "def BuildMaxHeap(A):\n",
    "    for i in reversed(range(len(A) // 2)):\n",
    "        MaxHeapify(A, i, len(A))\n",
    "        \n",
    "def HeapSort(A):\n",
    "    heapsize = len(A)\n",
    "    BuildMaxHeap(A)\n",
    "    for i in reversed(range(1, len(A))):\n",
    "        swap(A, 0, i)\n",
    "        heapsize -= 1\n",
    "        MaxHeapify(A, 0, heapsize)\n",
    "    return A"
   ]
  },
  {
   "cell_type": "code",
   "execution_count": 3,
   "metadata": {},
   "outputs": [
    {
     "name": "stdout",
     "output_type": "stream",
     "text": [
      "[0, 1, 2, 4, 5, 6, 7, 8, 9, 12, 13, 15]\n"
     ]
    }
   ],
   "source": [
    "print(HeapSort([15,13,9,5,12,8,7,4,0,6,2,1]))"
   ]
  },
  {
   "cell_type": "markdown",
   "metadata": {},
   "source": [
    "# Priority Queue\n",
    "A priority queue is a data structure for maintaining a set S of elements, each with an associated value called a key.\n",
    "\n",
    "* BinaryHeap() creates a new, empty, binary heap.\n",
    "* insert(k) adds a new item to the heap.\n",
    "* findMin() returns the item with the minimum key value, leaving item in the heap.\n",
    "* delMin() returns the item with the minimum key value, removing the item from the heap.\n",
    "* isEmpty() returns true if the heap is empty, false otherwise.\n",
    "* size() returns the number of items in the heap.\n",
    "* buildHeap(list) builds a new heap from a list of keys."
   ]
  },
  {
   "cell_type": "code",
   "execution_count": 9,
   "metadata": {
    "collapsed": true
   },
   "outputs": [],
   "source": [
    "class BinaryHeap(object):\n",
    "    def __init__(self):\n",
    "        self.heapList = [0]\n",
    "        self.currentSize = 0\n",
    "    \n",
    "    def findMin(self):\n",
    "        if self.currentSize > 0:\n",
    "            return self.heapList[1]\n",
    "        return None\n",
    "    \n",
    "    def isEmpty(self):\n",
    "        return self.size() == 0\n",
    "    \n",
    "    def size(self):\n",
    "        self.currentSize = len(self.heapList) - 1\n",
    "        return self.currentSize\n",
    "    \n",
    "    def buildHeap(self, nums):\n",
    "        for n in nums:\n",
    "            self.insert(n)\n",
    "        return\n",
    "        self.currentSize = len(nums)\n",
    "        self.heapList = [0] + nums[:]\n",
    "        for i in reversed(range(1, len(self.heapList) // 2 + 1)):\n",
    "            self.minify(i)\n",
    "        #print(self.heapList[1:])\n",
    "        \n",
    "    def swap(self, i, j):\n",
    "        A = self.heapList\n",
    "        A[i], A[j] = A[j], A[i]\n",
    "        \n",
    "    def minify(self, i):\n",
    "        # float the smallest item\n",
    "        A = self.heapList\n",
    "        l = 2 * i\n",
    "        r = 2 * i + 1\n",
    "        \n",
    "        x = i\n",
    "        if l < len(self.heapList) and A[x] > A[l]:\n",
    "            x = l\n",
    "        if r < len(self.heapList) and A[x] > A[r]:\n",
    "            x = r\n",
    "            \n",
    "        if i != x:\n",
    "            self.swap(i, x)\n",
    "            self.minify(x)\n",
    "            \n",
    "    def delMin(self):\n",
    "        self.swap(1, len(self.heapList) - 1)\n",
    "        ret = self.heapList.pop()\n",
    "        self.minify(1)\n",
    "        return ret\n",
    "    \n",
    "    def updateKey(self, i, k):\n",
    "        if i < 1 or i > len(self.heapList):\n",
    "            return\n",
    "        \n",
    "        A = self.heapList\n",
    "        if A[i] == k:\n",
    "            return \n",
    "        if A[i] < k:\n",
    "            A[i] = k\n",
    "            self.minify(i)\n",
    "        else:\n",
    "            A[i] = k\n",
    "            while i > 0 and A[i // 2] > A[i]:\n",
    "                self.swap(i // 2, i)\n",
    "                i //= 2\n",
    "    \n",
    "    def insert(self, k):\n",
    "        A = self.heapList\n",
    "        A.append(k)\n",
    "        i = len(A) - 1\n",
    "        while i > 0 and A[i // 2] > A[i]:\n",
    "            self.swap(i // 2, i)\n",
    "            i //= 2\n",
    "        print(self)\n",
    "        \n",
    "    def __repr__(self):\n",
    "        return self.heapList[1:].__repr__()\n",
    "    "
   ]
  },
  {
   "cell_type": "code",
   "execution_count": 10,
   "metadata": {},
   "outputs": [
    {
     "name": "stdout",
     "output_type": "stream",
     "text": [
      "[15]\n",
      "[13, 15]\n",
      "[9, 15, 13]\n",
      "[5, 9, 13, 15]\n",
      "[5, 9, 13, 15, 12]\n",
      "[5, 9, 8, 15, 12, 13]\n",
      "[5, 9, 7, 15, 12, 13, 8]\n",
      "[4, 5, 7, 9, 12, 13, 8, 15]\n",
      "[0, 4, 7, 5, 12, 13, 8, 15, 9]\n",
      "[0, 4, 7, 5, 6, 13, 8, 15, 9, 12]\n",
      "[0, 2, 7, 5, 4, 13, 8, 15, 9, 12, 6]\n",
      "[0, 2, 1, 5, 4, 7, 8, 15, 9, 12, 6, 13]\n"
     ]
    }
   ],
   "source": [
    "pq = BinaryHeap()\n",
    "pq.buildHeap([15,13,9,5,12,8,7,4,0,6,2,1])"
   ]
  },
  {
   "cell_type": "code",
   "execution_count": 6,
   "metadata": {},
   "outputs": [
    {
     "name": "stdout",
     "output_type": "stream",
     "text": [
      "[0, 2, 1, 4, 6, 8, 7, 13, 5, 15, 12, 9]\n"
     ]
    }
   ],
   "source": [
    "print(pq)"
   ]
  },
  {
   "cell_type": "code",
   "execution_count": null,
   "metadata": {
    "collapsed": true
   },
   "outputs": [],
   "source": []
  }
 ],
 "metadata": {
  "kernelspec": {
   "display_name": "Python 3",
   "language": "python",
   "name": "python3"
  },
  "language_info": {
   "codemirror_mode": {
    "name": "ipython",
    "version": 3
   },
   "file_extension": ".py",
   "mimetype": "text/x-python",
   "name": "python",
   "nbconvert_exporter": "python",
   "pygments_lexer": "ipython3",
   "version": "3.6.1"
  }
 },
 "nbformat": 4,
 "nbformat_minor": 2
}
