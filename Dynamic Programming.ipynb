{
 "cells": [
  {
   "cell_type": "markdown",
   "metadata": {},
   "source": [
    "## Prefect Squares\n",
    "\n",
    "$$\n",
    "dp[n] = min(dp[n - i * i] + 1, dp[n]) \\quad for \\space i \\space \\in \\space [1, \\sqrt{n}]\n",
    "$$\n",
    "\n",
    "[322. Coin Change](https://leetcode.com/problems/coin-change/description/)"
   ]
  },
  {
   "cell_type": "code",
   "execution_count": 4,
   "metadata": {},
   "outputs": [],
   "source": [
    "def numSquares(n):\n",
    "    dp = [float(['inf'])] * (n + 1)\n",
    "    dp[0] = 0\n",
    "    for i in range(1, n + 1):\n",
    "        for j in range(1, math.sqrt(i) + 1):\n",
    "            dp[i] = min(dp[i], 1 + dp[i - j * j])\n",
    "    return dp[n]"
   ]
  },
  {
   "cell_type": "markdown",
   "metadata": {},
   "source": [
    "## Coin Change\n",
    "\n",
    "$$\n",
    "dp[n] = min(dp[n - c] + 1, dp[n]) \\quad for \\space each \\space coin\n",
    "$$\n",
    "\n",
    "[279. Perfect Squares](https://leetcode.com/problems/perfect-squares/description/)"
   ]
  },
  {
   "cell_type": "code",
   "execution_count": 5,
   "metadata": {},
   "outputs": [],
   "source": [
    "def coinChange(coins, amount):\n",
    "    dp = [float('inf')] * (amount + 1)\n",
    "    dp[0] = 0\n",
    "    for n in range(1, amount + 1):\n",
    "        for c in coins:\n",
    "            if n >= c:\n",
    "                dp[n] = min(dp[n], 1 + dp[n - c])\n",
    "    if dp[amount] == float('int'):\n",
    "        return -1\n",
    "    return dp[amount]"
   ]
  },
  {
   "cell_type": "code",
   "execution_count": null,
   "metadata": {},
   "outputs": [],
   "source": []
  }
 ],
 "metadata": {
  "kernelspec": {
   "display_name": "Python 3",
   "language": "python",
   "name": "python3"
  },
  "language_info": {
   "codemirror_mode": {
    "name": "ipython",
    "version": 3
   },
   "file_extension": ".py",
   "mimetype": "text/x-python",
   "name": "python",
   "nbconvert_exporter": "python",
   "pygments_lexer": "ipython3",
   "version": "3.6.4"
  }
 },
 "nbformat": 4,
 "nbformat_minor": 2
}
