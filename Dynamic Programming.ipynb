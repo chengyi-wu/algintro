{
 "cells": [
  {
   "cell_type": "markdown",
   "metadata": {},
   "source": [
    "# Maximun Product Subarray\n",
    "Need to keep track of the max of non-negative and min of negative.\n",
    "\n",
    "[152. Maximum Product Subarray](https://leetcode.com/problems/maximum-product-subarray/description/)"
   ]
  },
  {
   "cell_type": "code",
   "execution_count": 6,
   "metadata": {},
   "outputs": [],
   "source": [
    "def maxProduct(self, nums):\n",
    "    \"\"\"\n",
    "    :type nums: List[int]\n",
    "    :rtype: int\n",
    "    \"\"\"\n",
    "    pos = [float('-inf')] * len(nums)\n",
    "    neg = [float('inf')] * len(nums)\n",
    "    ret = float('-inf')\n",
    "    for i, n in enumerate(nums):\n",
    "        if i == 0:\n",
    "            pos[i] = n\n",
    "            neg[i] = n\n",
    "        else:\n",
    "            if n < 0:\n",
    "                pos[i] = neg[i - 1] * n\n",
    "                neg[i] = min(pos[i - 1] * n, n)\n",
    "            else:\n",
    "                pos[i] = max(pos[i - 1] * n, n)\n",
    "                neg[i] = neg[i - 1] * n\n",
    "        ret = max(ret, pos[i])\n",
    "    return ret"
   ]
  },
  {
   "cell_type": "markdown",
   "metadata": {},
   "source": [
    "## Coin Change\n",
    "\n",
    "$$\n",
    "dp[n] = min(dp[n - c] + 1, dp[n]) \\quad for \\space each \\space coin\n",
    "$$\n",
    "\n",
    "[279. Perfect Squares](https://leetcode.com/problems/perfect-squares/description/)"
   ]
  },
  {
   "cell_type": "code",
   "execution_count": 5,
   "metadata": {},
   "outputs": [],
   "source": [
    "def coinChange(coins, amount):\n",
    "    dp = [float('inf')] * (amount + 1)\n",
    "    dp[0] = 0\n",
    "    for n in range(1, amount + 1):\n",
    "        for c in coins:\n",
    "            if n >= c:\n",
    "                dp[n] = min(dp[n], 1 + dp[n - c])\n",
    "    if dp[amount] == float('int'):\n",
    "        return -1\n",
    "    return dp[amount]"
   ]
  },
  {
   "cell_type": "markdown",
   "metadata": {},
   "source": [
    "# Longest Increasing Subsequence\n",
    "$$\n",
    "dp[i] = max(dp[j] + 1, dp[i]) \\quad for \\space j \\in [0, i - 1] \\space if \\space s[j] < s[i]\n",
    "$$\n",
    "[300. Longest Increasing Subsequence](https://leetcode.com/problems/longest-increasing-subsequence/description/)"
   ]
  },
  {
   "cell_type": "code",
   "execution_count": 5,
   "metadata": {},
   "outputs": [],
   "source": [
    "def LIS(s):\n",
    "    if len(s) == 0:\n",
    "        return 0\n",
    "    dp = [1] * len(s)\n",
    "    lis = 1\n",
    "    for i in range(len(s)):\n",
    "        for j in range(i):\n",
    "            if s[j] < s[i]:\n",
    "                dp[i] = max(dp[i], dp[j] + 1)\n",
    "                lis = max(lis, dp[i])\n",
    "    return lis"
   ]
  },
  {
   "cell_type": "markdown",
   "metadata": {},
   "source": [
    "## Prefect Squares\n",
    "\n",
    "$$\n",
    "dp[n] = min(dp[n - i * i] + 1, dp[n]) \\quad for \\space i \\space \\in \\space [1, \\sqrt{n}]\n",
    "$$\n",
    "\n",
    "[322. Coin Change](https://leetcode.com/problems/coin-change/description/)"
   ]
  },
  {
   "cell_type": "code",
   "execution_count": 4,
   "metadata": {},
   "outputs": [],
   "source": [
    "def numSquares(n):\n",
    "    dp = [float(['inf'])] * (n + 1)\n",
    "    dp[0] = 0\n",
    "    for i in range(1, n + 1):\n",
    "        for j in range(1, math.sqrt(i) + 1):\n",
    "            dp[i] = min(dp[i], 1 + dp[i - j * j])\n",
    "    return dp[n]"
   ]
  },
  {
   "cell_type": "markdown",
   "metadata": {},
   "source": [
    "# Largest Divisble Subset\n",
    "The same idea behind LIS problem.\n",
    "\n",
    "$$\n",
    "dp[i] = max(dp[j] + 1, dp[i]) \\quad for \\space j \\in [0, i - 1] \\space if \\space s[i] \\% s[j] = 0\n",
    "$$\n",
    "\n",
    "We first do some math work. For two numbers, A and B, if A < B, A % B must > 0 (A != 0). The only chance A % B == 0 must be A >= B\n",
    "\n",
    "[368. Largest Divisible Subset](https://leetcode.com/problems/largest-divisible-subset/description/)"
   ]
  },
  {
   "cell_type": "code",
   "execution_count": 1,
   "metadata": {},
   "outputs": [],
   "source": [
    "def largestDivisibleSubset(nums):\n",
    "    nums.sort()\n",
    "    dp = [[n] for n in nums]\n",
    "    max_sub = []\n",
    "    for i, n in enumerate(nums):\n",
    "        for j in range(i):\n",
    "            if n % nums[j] == 0: # n > nums[j]\n",
    "                if len(dp[i]) < len(dp[j]) + 1:\n",
    "                    dp[i] = dp[j] + [n]\n",
    "        if len(max_sub) < len(dp[i]):\n",
    "            max_sub = dp[i]\n",
    "    return max_sub"
   ]
  },
  {
   "cell_type": "markdown",
   "metadata": {},
   "source": [
    "# Longest Palindromic Subsequence\n",
    "```\n",
    "dp[i][j] = 1 if i = j\n",
    "\n",
    "dp[i][j] = 2 if i + 1 == j\n",
    "\n",
    "dp[i][j] = 2 + dp[i + 1][j - 1] if s[i] == s[j]\n",
    "\n",
    "dp[i][j] = max(dp[i + 1][j], dp[i][j - 1]) if s[i] != s[j]\n",
    "```\n",
    "\n",
    "[516. Longest Palindromic Subsequence](https://leetcode.com/problems/longest-palindromic-subsequence/description/)"
   ]
  },
  {
   "cell_type": "code",
   "execution_count": 1,
   "metadata": {},
   "outputs": [],
   "source": [
    "def longestPalindromeSubseq(s):\n",
    "    ret = 0\n",
    "    dp = [[0] * len(s)] * len(s)\n",
    "    for i in reversed(range(len(s))):\n",
    "        for j in range(i, len(s)):\n",
    "            if i == j:\n",
    "                dp[i][j] = 1\n",
    "            elif s[i] == s[j]:\n",
    "                if i + 1 == j:\n",
    "                    dp[i][j] = 2\n",
    "                else:\n",
    "                    dp[i][j] = 2 + dp[i + 1][j - 1]\n",
    "            else:\n",
    "                dp[i][j] = max(dp[i + 1][j], dp[i][j - 1])\n",
    "        ret = max(ret, dp[i][j])\n",
    "    return ret"
   ]
  },
  {
   "cell_type": "code",
   "execution_count": null,
   "metadata": {},
   "outputs": [],
   "source": []
  }
 ],
 "metadata": {
  "kernelspec": {
   "display_name": "Python 3",
   "language": "python",
   "name": "python3"
  },
  "language_info": {
   "codemirror_mode": {
    "name": "ipython",
    "version": 3
   },
   "file_extension": ".py",
   "mimetype": "text/x-python",
   "name": "python",
   "nbconvert_exporter": "python",
   "pygments_lexer": "ipython3",
   "version": "3.6.4"
  }
 },
 "nbformat": 4,
 "nbformat_minor": 2
}
