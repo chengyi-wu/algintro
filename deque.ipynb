{
 "cells": [
  {
   "cell_type": "markdown",
   "metadata": {},
   "source": [
    "# [Deque](https://en.wikipedia.org/wiki/Double-ended_queue)\n",
    "Double-ended queue is an abstract data type that generalizes a queue, for which elements can be added to or removed from either the front (head) or back (tail)."
   ]
  },
  {
   "cell_type": "code",
   "execution_count": 1,
   "metadata": {
    "collapsed": true
   },
   "outputs": [],
   "source": [
    "class Deque:\n",
    "    class ListNode:\n",
    "        def __init__(self, val):\n",
    "            self.prev = self.next = None\n",
    "            self.val = val\n",
    "        def __repr__(self):\n",
    "            return self.val.__repr__()\n",
    "    def __init__(self):\n",
    "        self.front = self.back = None;\n",
    "        self.size = 0\n",
    "    def isEmpty(self):\n",
    "        return self.size == 0\n",
    "    def addFirst(self, val):\n",
    "        if val is None:\n",
    "            raise ValueError(\"val\")\n",
    "        n = Deque.ListNode(val)\n",
    "        self.size += 1\n",
    "        if self.front is None:\n",
    "            self.front = self.back = n\n",
    "        else:\n",
    "            self.front.prev = n\n",
    "            n.next = self.front\n",
    "            self.front = n\n",
    "    def addLast(self, val):\n",
    "        if val is None:\n",
    "            raise ValueError(\"val\")\n",
    "        n = Deque.ListNode(val)\n",
    "        self.size += 1\n",
    "        if self.back is None:\n",
    "            self.front = self.back = n\n",
    "        else:\n",
    "            self.back.next = n\n",
    "            n.prev = self.back\n",
    "            self.back = n\n",
    "    def removeFirst(self):\n",
    "        if self.size == 0:\n",
    "            raise RuntimeError(\"empty\")\n",
    "        self.size -= 1\n",
    "        n = self.front\n",
    "        self.front = self.front.next\n",
    "        if self.front is None:\n",
    "            self.back = None\n",
    "        else:\n",
    "            self.front.prev = None\n",
    "        return n.val\n",
    "    def removeLast(self):\n",
    "        if self.size == 0:\n",
    "            raise RuntimeError(\"empty\")\n",
    "        self.size -= 1\n",
    "        n = self.back\n",
    "        self.back = self.back.prev\n",
    "        if self.back is None:\n",
    "            self.front = None\n",
    "        else:\n",
    "            self.back.next = None\n",
    "        return n.val\n",
    "    def __repr__(self):\n",
    "        ret = []\n",
    "        n = self.front\n",
    "        while n:\n",
    "            ret.append(n.val)\n",
    "            n = n.next\n",
    "        return ret.__repr__()"
   ]
  },
  {
   "cell_type": "code",
   "execution_count": 2,
   "metadata": {},
   "outputs": [
    {
     "name": "stdout",
     "output_type": "stream",
     "text": [
      "[4, 3, 2, 1, 0, 0, 1, 2, 3, 4] False 10\n"
     ]
    }
   ],
   "source": [
    "deque = Deque()\n",
    "for i in range(5):\n",
    "    deque.addFirst(i)\n",
    "for i in range(5):\n",
    "    deque.addLast(i)\n",
    "print(deque, deque.isEmpty(), deque.size)"
   ]
  },
  {
   "cell_type": "code",
   "execution_count": 3,
   "metadata": {},
   "outputs": [
    {
     "name": "stdout",
     "output_type": "stream",
     "text": [
      "4\n",
      "3\n",
      "2\n",
      "1\n",
      "0\n",
      "0\n",
      "1\n",
      "2\n",
      "3\n",
      "4\n"
     ]
    },
    {
     "ename": "RuntimeError",
     "evalue": "empty",
     "output_type": "error",
     "traceback": [
      "\u001b[0;31m---------------------------------------------------------------------------\u001b[0m",
      "\u001b[0;31mRuntimeError\u001b[0m                              Traceback (most recent call last)",
      "\u001b[0;32m<ipython-input-3-8467fc9ea7a4>\u001b[0m in \u001b[0;36m<module>\u001b[0;34m()\u001b[0m\n\u001b[1;32m      1\u001b[0m \u001b[0;32mwhile\u001b[0m \u001b[0mdeque\u001b[0m\u001b[0;34m.\u001b[0m\u001b[0msize\u001b[0m \u001b[0;34m>\u001b[0m \u001b[0;36m0\u001b[0m\u001b[0;34m:\u001b[0m\u001b[0;34m\u001b[0m\u001b[0m\n\u001b[1;32m      2\u001b[0m     \u001b[0mprint\u001b[0m\u001b[0;34m(\u001b[0m\u001b[0mdeque\u001b[0m\u001b[0;34m.\u001b[0m\u001b[0mremoveLast\u001b[0m\u001b[0;34m(\u001b[0m\u001b[0;34m)\u001b[0m\u001b[0;34m)\u001b[0m\u001b[0;34m\u001b[0m\u001b[0m\n\u001b[0;32m----> 3\u001b[0;31m \u001b[0mdeque\u001b[0m\u001b[0;34m.\u001b[0m\u001b[0mremoveFirst\u001b[0m\u001b[0;34m(\u001b[0m\u001b[0;34m)\u001b[0m \u001b[0;31m# Expected failure\u001b[0m\u001b[0;34m\u001b[0m\u001b[0m\n\u001b[0m",
      "\u001b[0;32m<ipython-input-1-c8c0afb99560>\u001b[0m in \u001b[0;36mremoveFirst\u001b[0;34m(self)\u001b[0m\n\u001b[1;32m     35\u001b[0m     \u001b[0;32mdef\u001b[0m \u001b[0mremoveFirst\u001b[0m\u001b[0;34m(\u001b[0m\u001b[0mself\u001b[0m\u001b[0;34m)\u001b[0m\u001b[0;34m:\u001b[0m\u001b[0;34m\u001b[0m\u001b[0m\n\u001b[1;32m     36\u001b[0m         \u001b[0;32mif\u001b[0m \u001b[0mself\u001b[0m\u001b[0;34m.\u001b[0m\u001b[0msize\u001b[0m \u001b[0;34m==\u001b[0m \u001b[0;36m0\u001b[0m\u001b[0;34m:\u001b[0m\u001b[0;34m\u001b[0m\u001b[0m\n\u001b[0;32m---> 37\u001b[0;31m             \u001b[0;32mraise\u001b[0m \u001b[0mRuntimeError\u001b[0m\u001b[0;34m(\u001b[0m\u001b[0;34m\"empty\"\u001b[0m\u001b[0;34m)\u001b[0m\u001b[0;34m\u001b[0m\u001b[0m\n\u001b[0m\u001b[1;32m     38\u001b[0m         \u001b[0mself\u001b[0m\u001b[0;34m.\u001b[0m\u001b[0msize\u001b[0m \u001b[0;34m-=\u001b[0m \u001b[0;36m1\u001b[0m\u001b[0;34m\u001b[0m\u001b[0m\n\u001b[1;32m     39\u001b[0m         \u001b[0mn\u001b[0m \u001b[0;34m=\u001b[0m \u001b[0mself\u001b[0m\u001b[0;34m.\u001b[0m\u001b[0mfront\u001b[0m\u001b[0;34m\u001b[0m\u001b[0m\n",
      "\u001b[0;31mRuntimeError\u001b[0m: empty"
     ]
    }
   ],
   "source": [
    "while deque.size > 0:\n",
    "    print(deque.removeLast())\n",
    "deque.removeFirst() # Expected failure"
   ]
  },
  {
   "cell_type": "code",
   "execution_count": null,
   "metadata": {
    "collapsed": true
   },
   "outputs": [],
   "source": []
  }
 ],
 "metadata": {
  "kernelspec": {
   "display_name": "Python 3",
   "language": "python",
   "name": "python3"
  },
  "language_info": {
   "codemirror_mode": {
    "name": "ipython",
    "version": 3
   },
   "file_extension": ".py",
   "mimetype": "text/x-python",
   "name": "python",
   "nbconvert_exporter": "python",
   "pygments_lexer": "ipython3",
   "version": "3.6.2"
  }
 },
 "nbformat": 4,
 "nbformat_minor": 2
}
