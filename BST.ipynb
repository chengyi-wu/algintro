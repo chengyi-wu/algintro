{
 "cells": [
  {
   "cell_type": "markdown",
   "metadata": {},
   "source": [
    "# Binary Search Tree"
   ]
  },
  {
   "cell_type": "code",
   "execution_count": 15,
   "metadata": {},
   "outputs": [],
   "source": [
    "class BSTnode(object):\n",
    "    def __init__(self, v = 0):\n",
    "        self.val = v\n",
    "        self.left = None\n",
    "        self.right = None\n",
    "        self.parent = None\n",
    "        \n",
    "    def __repr__(self):\n",
    "        return self.val.__repr__()\n",
    "    \n",
    "class BST(object):\n",
    "    def __init__(self):\n",
    "        self.root = None\n",
    "        \n",
    "    def insert(self, v):\n",
    "        n = BSTnode(v)\n",
    "        \n",
    "        if self.root is None:\n",
    "            self.root = n\n",
    "        else:\n",
    "            self.rinsert(self.root, n)\n",
    "    \n",
    "    def rinsert(self, p, n):\n",
    "        if n.val < p.val:\n",
    "            if p.left is None:\n",
    "                p.left = n\n",
    "                n.parent = p\n",
    "            else:\n",
    "                self.rinsert(p.left, n)\n",
    "        else:\n",
    "            if p.right is None:\n",
    "                p.right = n\n",
    "                n.parent = p\n",
    "            else:\n",
    "                self.rinsert(p.right, n)\n",
    "                \n",
    "    def find(self, v):\n",
    "        return self.rfind(self.root, v)\n",
    "        \n",
    "    def rfind(self, n, v):\n",
    "        if n == None:\n",
    "            return None\n",
    "        if n.val == v:\n",
    "            return n\n",
    "        if n.val < v:\n",
    "            return self.rfind(n.right, v)\n",
    "        return self.rfind(n.left, v)\n",
    "                \n",
    "    def traverse(self):\n",
    "        print(\"traverse\")\n",
    "        self.inorder(self.root)\n",
    "        \n",
    "    def inorder(self, root):\n",
    "        if root is not None:\n",
    "            print(root)\n",
    "            self.inorder(root.left)\n",
    "            self.inorder(root.right)\n",
    "            \n",
    "    def getMin(self):\n",
    "        n = self.root\n",
    "        if n == None:\n",
    "            return None\n",
    "        while n.left is not None:\n",
    "            n = n.left\n",
    "            \n",
    "        return n\n",
    "    \n",
    "    def getMax(self):\n",
    "        n = self.root\n",
    "        if n == None:\n",
    "            return None\n",
    "        while n.right is not None:\n",
    "            n = n.right\n",
    "        return n"
   ]
  },
  {
   "cell_type": "code",
   "execution_count": 16,
   "metadata": {
    "collapsed": true
   },
   "outputs": [],
   "source": [
    "def test():\n",
    "    tree = BST()\n",
    "    tree.insert(2)\n",
    "    tree.insert(1)\n",
    "    tree.insert(3)\n",
    "    tree.insert(4)\n",
    "    \n",
    "    tree.traverse()\n",
    "    \n",
    "    print(tree.find(4))\n",
    "    print(tree.getMin())\n",
    "    print(tree.getMax())"
   ]
  },
  {
   "cell_type": "code",
   "execution_count": 17,
   "metadata": {
    "scrolled": true
   },
   "outputs": [
    {
     "name": "stdout",
     "output_type": "stream",
     "text": [
      "traverse\n",
      "2\n",
      "1\n",
      "3\n",
      "4\n",
      "4\n",
      "1\n",
      "4\n"
     ]
    }
   ],
   "source": [
    "test()"
   ]
  },
  {
   "cell_type": "code",
   "execution_count": null,
   "metadata": {
    "collapsed": true
   },
   "outputs": [],
   "source": []
  }
 ],
 "metadata": {
  "kernelspec": {
   "display_name": "Python 3",
   "language": "python",
   "name": "python3"
  },
  "language_info": {
   "codemirror_mode": {
    "name": "ipython",
    "version": 3
   },
   "file_extension": ".py",
   "mimetype": "text/x-python",
   "name": "python",
   "nbconvert_exporter": "python",
   "pygments_lexer": "ipython3",
   "version": "3.6.1"
  }
 },
 "nbformat": 4,
 "nbformat_minor": 2
}
