{
 "cells": [
  {
   "cell_type": "markdown",
   "metadata": {},
   "source": [
    "# 315. Count of Smaller Numbers After Self\n",
    "\n",
    "[@stefanpochmann](https://leetcode.com/problems/count-of-smaller-numbers-after-self/discuss/76584/Mergesort-solution) The smaller numbers on the right of a number are exactly those that jump from its right to its left during a stable sort. So I do mergesort with added tracking of those right-to-left jumps.\n",
    "\n",
    "[315. Count of Smaller Numbers After Self](https://leetcode.com/problems/count-of-smaller-numbers-after-self/description/)"
   ]
  },
  {
   "cell_type": "code",
   "execution_count": 1,
   "metadata": {},
   "outputs": [],
   "source": [
    "def countSmaller(nums):\n",
    "    def mergesort(enum):\n",
    "        half = len(enum) // 2\n",
    "        if half:\n",
    "            left, right = mergesort(enum[:half]), mergesort(enum[half:])\n",
    "            for i in reversed(range(len(enum))):\n",
    "                if len(right) == 0 or len(left) > 0 and left[-1][1] > right[-1][1]:\n",
    "                    ret[left[-1][0]] += len(right)\n",
    "                    enum[i] = left.pop()\n",
    "                else:\n",
    "                    enum[i] = right.pop()\n",
    "        return enum\n",
    "    ret = [0] * len(nums)\n",
    "    mergesort(list(enumerate(nums)))\n",
    "    return ret"
   ]
  },
  {
   "cell_type": "code",
   "execution_count": 2,
   "metadata": {},
   "outputs": [
    {
     "name": "stdout",
     "output_type": "stream",
     "text": [
      "[2, 1, 1, 0]\n"
     ]
    }
   ],
   "source": [
    "nums = [5, 2, 6, 1]\n",
    "print(countSmaller(nums))"
   ]
  },
  {
   "cell_type": "markdown",
   "metadata": {},
   "source": [
    "# 327. Count of Range Sum\n",
    "\n",
    "[@dietpepsi](https://leetcode.com/problems/count-of-range-sum/discuss/77990/Share-my-solution)\n",
    "\n",
    "Recall count smaller number after self where we encountered the problem\n",
    "```\n",
    "count[i] = count of nums[j] - nums[i] < 0 with j > i\n",
    "```\n",
    "Here, after we did the preprocess, we need to solve the problem\n",
    "```\n",
    "count[i] = count of a <= S[j] - S[i] <= b with j > i\n",
    "ans = sum(count[:])\n",
    "```\n",
    "Therefore the two problems are almost the same. We can use the same technique used in that problem to solve this problem. One solution is merge sort based; another one is Balanced BST based. The time complexity are both O(n log n).\n",
    "\n",
    "The merge sort based solution counts the answer while doing the merge. During the merge stage, we have already sorted the left half [start, mid) and right half [mid, end). We then iterate through the left half with index i. For each i, we need to find two indices k and j in the right half where\n",
    "\n",
    "* j is the first index satisfy sums[j] - sums[i] > upper and\n",
    "* k is the first index satisfy sums[k] - sums[i] >= lower.\n",
    "\n",
    "Then the number of sums in [lower, upper] is j-k. We also use another index t to copy the elements satisfy sums[t] < sums[i] to a cache in order to complete the merge sort.\n",
    "\n",
    "Despite the nested loops, the time complexity of the \"merge & count\" stage is still linear. Because the indices k, j, t will only increase but not decrease, each of them will only traversal the right half once at most. The total time complexity of this divide and conquer solution is then O(n log n).\n",
    "\n",
    "[327. Count of Range Sum](https://leetcode.com/problems/count-of-range-sum/description/)"
   ]
  },
  {
   "cell_type": "code",
   "execution_count": 3,
   "metadata": {
    "collapsed": true
   },
   "outputs": [],
   "source": [
    "def countRangeSum(nums, lower, upper):\n",
    "    sums = [0] * len(nums) + [0]\n",
    "    for i, n in enumerate(nums):\n",
    "        sums[i + 1] = sums[i] + n\n",
    "    def mergesort(lo, hi):\n",
    "        m = (lo + hi) // 2\n",
    "        if m == lo:\n",
    "            return 0\n",
    "        print(sums[lo:m], sums[m:hi])\n",
    "        count = mergesort(lo, m) + mergesort(m, hi)\n",
    "        i = j = m\n",
    "        for left in sums[lo:m]:\n",
    "            # two pointer to find the range\n",
    "            while i < hi and sums[i] - left <  lower : i += 1\n",
    "            while j < hi and sums[j] - left <= upper : j += 1\n",
    "            count += j - i\n",
    "        sums[lo:hi] = sorted(sums[lo:hi]) # sort the array\n",
    "        print(count)\n",
    "        return count\n",
    "    return mergesort(0, len(sums))"
   ]
  },
  {
   "cell_type": "code",
   "execution_count": 4,
   "metadata": {},
   "outputs": [
    {
     "name": "stdout",
     "output_type": "stream",
     "text": [
      "[0, -2] [3, 2]\n",
      "[0] [-2]\n",
      "1\n",
      "[3] [2]\n",
      "1\n",
      "3\n"
     ]
    },
    {
     "data": {
      "text/plain": [
       "3"
      ]
     },
     "execution_count": 4,
     "metadata": {},
     "output_type": "execute_result"
    }
   ],
   "source": [
    "nums = [-2,5,-1]\n",
    "countRangeSum(nums, -2, 2)"
   ]
  },
  {
   "cell_type": "markdown",
   "metadata": {},
   "source": [
    "# 493. Reverse Pairs\n",
    "\n",
    "The same as trick as 327.Count of Range Sum\n",
    "\n",
    "* left part and right part are all **sorted**\n",
    "* *j* is the first index that **violoates** ```nums[i] > 2 * nums[j]```\n",
    "\n",
    "[493. Reverse Pairs](https://leetcode.com/problems/reverse-pairs/description/)"
   ]
  },
  {
   "cell_type": "code",
   "execution_count": 5,
   "metadata": {
    "collapsed": true
   },
   "outputs": [],
   "source": [
    "def reversePairs(nums):\n",
    "    \"\"\"\n",
    "    :type nums: List[int]\n",
    "    :rtype: int\n",
    "    \"\"\"\n",
    "    def mergesort(lo, hi):\n",
    "        m = (lo + hi) // 2\n",
    "        if m == lo:\n",
    "            return 0\n",
    "        count = mergesort(lo, m) + mergesort(m, hi)\n",
    "        print(nums[lo:m], nums[m:hi])\n",
    "        j = m\n",
    "        for i in range(lo, m):\n",
    "            # nums[i] > 2*nums[j]\n",
    "            while j < hi and nums[i] > 2 * nums[j] : j += 1\n",
    "            count += j - m\n",
    "        nums[lo:hi] = sorted(nums[lo:hi]) # sort the array\n",
    "        print(count)\n",
    "        return count\n",
    "    return mergesort(0, len(nums))"
   ]
  },
  {
   "cell_type": "code",
   "execution_count": 6,
   "metadata": {},
   "outputs": [
    {
     "name": "stdout",
     "output_type": "stream",
     "text": [
      "[1] [3]\n",
      "0\n",
      "[3] [1]\n",
      "1\n",
      "[2] [1, 3]\n",
      "1\n",
      "[1, 3] [1, 2, 3]\n",
      "2\n"
     ]
    },
    {
     "data": {
      "text/plain": [
       "2"
      ]
     },
     "execution_count": 6,
     "metadata": {},
     "output_type": "execute_result"
    }
   ],
   "source": [
    "nums = [1,3,2,3,1]\n",
    "reversePairs(nums)"
   ]
  },
  {
   "cell_type": "code",
   "execution_count": 7,
   "metadata": {},
   "outputs": [
    {
     "name": "stdout",
     "output_type": "stream",
     "text": [
      "[2] [4]\n",
      "0\n",
      "[5] [1]\n",
      "1\n",
      "[3] [1, 5]\n",
      "2\n",
      "[2, 4] [1, 3, 5]\n",
      "3\n"
     ]
    },
    {
     "data": {
      "text/plain": [
       "3"
      ]
     },
     "execution_count": 7,
     "metadata": {},
     "output_type": "execute_result"
    }
   ],
   "source": [
    "nums = [2,4,3,5,1]\n",
    "reversePairs(nums)"
   ]
  }
 ],
 "metadata": {
  "kernelspec": {
   "display_name": "Python 3",
   "language": "python",
   "name": "python3"
  },
  "language_info": {
   "codemirror_mode": {
    "name": "ipython",
    "version": 3
   },
   "file_extension": ".py",
   "mimetype": "text/x-python",
   "name": "python",
   "nbconvert_exporter": "python",
   "pygments_lexer": "ipython3",
   "version": "3.6.2"
  }
 },
 "nbformat": 4,
 "nbformat_minor": 2
}
