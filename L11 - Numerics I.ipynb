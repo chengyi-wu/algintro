{
 "cells": [
  {
   "cell_type": "markdown",
   "metadata": {},
   "source": [
    "## Catalan Numbers\n",
    "Set P of balanced parentheses strings are recursively defined as\n",
    "$$\n",
    "\\lambda \\in P \\\\\n",
    "If \\alpha,\\beta \\in P, then \\ (\\alpha)\\beta \\in P\n",
    "$$\n",
    "### Enumeration\n",
    "C(n): number of balanced parentheses strings with exactly n pairs of parentheses.\n",
    "$$\n",
    "C_{n + 1} = \\sum_{k=0}^{n}C_{k}C_{n - k } \\quad N \\ge 0\n",
    "$$\n",
    "[Catalan Numbers in MIT 6.006](https://www.bilibili.com/video/av5445475/?p=11)"
   ]
  },
  {
   "cell_type": "code",
   "execution_count": 1,
   "metadata": {},
   "outputs": [],
   "source": [
    "def catalan(n, cache):\n",
    "    if n == 0:\n",
    "        return 1\n",
    "    if n in cache:\n",
    "        return cache[n]\n",
    "    c = 0\n",
    "    for k in range(n):\n",
    "        c += catalan(k, cache) * catalan(n - 1 - k, cache)\n",
    "    cache[n] = c\n",
    "    return c"
   ]
  },
  {
   "cell_type": "code",
   "execution_count": 2,
   "metadata": {
    "scrolled": false
   },
   "outputs": [
    {
     "name": "stdout",
     "output_type": "stream",
     "text": [
      "0 1\n",
      "1 1\n",
      "2 2\n",
      "3 5\n",
      "4 14\n",
      "5 42\n",
      "6 132\n",
      "7 429\n",
      "8 1430\n",
      "9 4862\n",
      "10 16796\n",
      "11 58786\n",
      "12 208012\n",
      "13 742900\n",
      "14 2674440\n",
      "15 9694845\n",
      "16 35357670\n",
      "17 129644790\n",
      "18 477638700\n",
      "19 1767263190\n"
     ]
    }
   ],
   "source": [
    "for i in range(20):\n",
    "    print(i, catalan(i, {}))"
   ]
  },
  {
   "cell_type": "markdown",
   "metadata": {},
   "source": [
    "#### Generate balanced parentheses strings"
   ]
  },
  {
   "cell_type": "code",
   "execution_count": 3,
   "metadata": {},
   "outputs": [],
   "source": [
    "def generateParenthesis(n):\n",
    "    if n == 0:\n",
    "        return ['']\n",
    "    ret = []\n",
    "    for k in range(n):\n",
    "        for a in generateParenthesis(k):\n",
    "            for b in generateParenthesis(n - 1 - k):\n",
    "                ret.append('(' + a + ')' + b)\n",
    "    return ret"
   ]
  },
  {
   "cell_type": "code",
   "execution_count": 4,
   "metadata": {
    "scrolled": true
   },
   "outputs": [
    {
     "name": "stdout",
     "output_type": "stream",
     "text": [
      "['()']\n",
      "['()()', '(())']\n",
      "['()()()', '()(())', '(())()', '(()())', '((()))']\n",
      "['()()()()', '()()(())', '()(())()', '()(()())', '()((()))', '(())()()', '(())(())', '(()())()', '((()))()', '(()()())', '(()(()))', '((())())', '((()()))', '(((())))']\n"
     ]
    }
   ],
   "source": [
    "print(generateParenthesis(1))\n",
    "print(generateParenthesis(2))\n",
    "print(generateParenthesis(3))\n",
    "print(generateParenthesis(4))"
   ]
  },
  {
   "cell_type": "markdown",
   "metadata": {},
   "source": [
    "## Newton's method\n",
    "$$\n",
    "x = \\sqrt{y} \\to y = x^2 \\\\\n",
    "$$\n",
    "Take the derivates of the equation.\n",
    "$$\n",
    "dy = 2xdx \\qquad (\\Delta y \\approx dy, \\Delta x \\approx dx) \\\\\n",
    "dy = 2xdx \\to \\Delta y = 2x \\Delta x \\to \\Delta x = \\frac{ \\Delta y}{2x} \n",
    "$$"
   ]
  },
  {
   "cell_type": "code",
   "execution_count": 5,
   "metadata": {},
   "outputs": [],
   "source": [
    "def get_delta(x, y):\n",
    "    delta_y = x ** 2 - y\n",
    "    delta_x = delta_y / (2 * x)\n",
    "    return delta_x\n",
    "\n",
    "def guess_sqrt(y):\n",
    "    import random, math\n",
    "    x = random.randint(1, y)\n",
    "    counts = 0\n",
    "    while True:\n",
    "        delta_x = get_delta(x, y)\n",
    "        if abs(delta_x) < 0.5 * 10**(-6):\n",
    "            break\n",
    "        else:\n",
    "            x -= delta_x\n",
    "            counts += 1\n",
    "            \n",
    "    return x, counts, math.sqrt(y)"
   ]
  },
  {
   "cell_type": "code",
   "execution_count": 6,
   "metadata": {
    "scrolled": true
   },
   "outputs": [
    {
     "data": {
      "text/plain": [
       "(3595.708970562425, 14, 3595.7089704257214)"
      ]
     },
     "execution_count": 6,
     "metadata": {},
     "output_type": "execute_result"
    }
   ],
   "source": [
    "guess_sqrt(12929123)"
   ]
  },
  {
   "cell_type": "code",
   "execution_count": null,
   "metadata": {},
   "outputs": [],
   "source": []
  }
 ],
 "metadata": {
  "kernelspec": {
   "display_name": "Python 3",
   "language": "python",
   "name": "python3"
  },
  "language_info": {
   "codemirror_mode": {
    "name": "ipython",
    "version": 3
   },
   "file_extension": ".py",
   "mimetype": "text/x-python",
   "name": "python",
   "nbconvert_exporter": "python",
   "pygments_lexer": "ipython3",
   "version": "3.6.4"
  }
 },
 "nbformat": 4,
 "nbformat_minor": 2
}
