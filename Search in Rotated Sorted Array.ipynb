{
 "cells": [
  {
   "cell_type": "code",
   "execution_count": null,
   "metadata": {
    "collapsed": true
   },
   "outputs": [],
   "source": [
    "def binary_search(nums, target):\n",
    "    p, r = 0, len(nums) - 1\n",
    "    while p <= r:\n",
    "        m = (p + r) // 2\n",
    "        if nums[m] == target:\n",
    "            return True\n",
    "        elif nums[m] > nums[0]:\n",
    "            p = m + 1\n",
    "        else:\n",
    "            r = m - 1\n",
    "    return False"
   ]
  },
  {
   "cell_type": "markdown",
   "metadata": {},
   "source": [
    "# Search in Rotated Sorted Array\n",
    "As a pivot, A[m] should be less than A[0] (A[-1] is not sufficient, since it's always less than A[-1]).\n",
    "\n",
    "$$\n",
    "\\textbf{A[0]} < ... < A[m - 1] < \\textbf{A[m]} < A[m + 1] < ... < A[-1]\n",
    "$$\n",
    "\n",
    "To find the pivot point, we need have this test: A[m] > A[0] in binary search.\n",
    "```python\n",
    "p, r = 0, len(A) - 1\n",
    "while p + 1 < r and A[p] > A[r]:\n",
    "    m = (p + r) // 2\n",
    "    if A[m] > A[0]:\n",
    "        p = m + 1\n",
    "    else:\n",
    "        r = m # A[r] is usualy less than A[m].\n",
    "if A[p] > A[r]:\n",
    "    p = r # p is the pivot point (aka, the smallest element in the array)\n",
    "```\n",
    "[33. Search in Rotated Sorted Array](https://leetcode.com/problems/search-in-rotated-sorted-array/description/)\n",
    "\n",
    "[153. Find Minimum in Rotated Sorted Array](https://leetcode.com/problems/find-minimum-in-rotated-sorted-array/description/)"
   ]
  },
  {
   "cell_type": "code",
   "execution_count": null,
   "metadata": {
    "collapsed": true
   },
   "outputs": [],
   "source": [
    "def search(nums, target):\n",
    "    p, r = 0, len(nums) - 1\n",
    "    while p + 1 < r and nums[p] < nums[r]:\n",
    "        m = (p + r) // 2\n",
    "        if nums[m] > nums[0]:\n",
    "            p = m + 1\n",
    "        else:\n",
    "            r = m\n",
    "    if nums[p] > nums[r]:\n",
    "        p = r\n",
    "    if nums[p] <= target <= nums[-1]:\n",
    "        return binary_search(nums[p:], target)\n",
    "    return binary_search(nums[:p], target)"
   ]
  },
  {
   "cell_type": "markdown",
   "metadata": {},
   "source": [
    "## Duplicates are allowed\n",
    "A[m] won't be enough since A[m] can be equal to A[0]. \n",
    "\n",
    "$$\n",
    "\\textbf{A[0]} = ... = A[m - 1] = \\textbf{A[m]} < A[m + 1] < ... < A[-1]\n",
    "$$\n",
    "\n",
    "But we can still find the minimal by doing two more binary search in the A[:m] and A[m + 1:]. Two binary search is still binary search.\n",
    "```python\n",
    "p, r = 0, len(A) - 1\n",
    "while p + 1 < r and A[p] >= A[r]:\n",
    "    m = (p + r) // 2\n",
    "    if A[0] == A[m]:\n",
    "        p = min(search(A[:m], search(A[m + 1:]) # pivot either in the left or right\n",
    "        break\n",
    "    elif A[m] > A[0]:\n",
    "        p = m + 1\n",
    "    else:\n",
    "        r = m\n",
    "if A[p] > A[r]:\n",
    "    p = r \n",
    "```\n",
    "[81. Search in Rotated Sorted Array II](https://leetcode.com/problems/search-in-rotated-sorted-array-ii/description/)\n",
    "\n",
    "[154. Find Minimum in Rotated Sorted Array II](https://leetcode.com/problems/find-minimum-in-rotated-sorted-array-ii/description/)"
   ]
  },
  {
   "cell_type": "code",
   "execution_count": null,
   "metadata": {
    "collapsed": true
   },
   "outputs": [],
   "source": [
    "def search2(nums, target):\n",
    "    p, r = 0, len(nums) - 1\n",
    "    while p + 1 < r and nums[p] < nums[r]:\n",
    "        m = (p + r) // 2\n",
    "        if nums[m] == nums[0]:\n",
    "            return search2(nums[:m], target) or search2(nums[m + 1:], target) #Only difference\n",
    "        elif nums[m] > nums[0]:\n",
    "            p = m + 1\n",
    "        else:\n",
    "            r = m\n",
    "    if nums[p] > nums[r]:\n",
    "        p = r\n",
    "    if nums[p] <= target <= nums[-1]:\n",
    "        return binary_search(nums[p:], target)\n",
    "    return binary_search(nums[:p], target)"
   ]
  }
 ],
 "metadata": {
  "kernelspec": {
   "display_name": "Python 3",
   "language": "python",
   "name": "python3"
  },
  "language_info": {
   "codemirror_mode": {
    "name": "ipython",
    "version": 3
   },
   "file_extension": ".py",
   "mimetype": "text/x-python",
   "name": "python",
   "nbconvert_exporter": "python",
   "pygments_lexer": "ipython3",
   "version": "3.6.2"
  }
 },
 "nbformat": 4,
 "nbformat_minor": 2
}
