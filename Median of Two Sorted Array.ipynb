{
 "cells": [
  {
   "cell_type": "markdown",
   "metadata": {},
   "source": [
    "# Median of Two Sorted Arrays\n",
    "There are two sorted arrays nums1 and nums2 of size m and n respectively.\n",
    "\n",
    "Find the median of the two sorted arrays. The overall run time complexity should be O(log (m+n)).\n",
    "\n",
    "Example 1:\n",
    "```\n",
    "nums1 = [1, 3]\n",
    "nums2 = [2]\n",
    "\n",
    "The median is 2.0\n",
    "```\n",
    "Example 2:\n",
    "```\n",
    "nums1 = [1, 2]\n",
    "nums2 = [3, 4]\n",
    "\n",
    "The median is (2 + 3)/2 = 2.5\n",
    "```\n",
    "[Median of Two Sorted Arrays](https://leetcode.com/problems/median-of-two-sorted-arrays/description/)"
   ]
  },
  {
   "cell_type": "markdown",
   "metadata": {},
   "source": [
    "[Solution](https://leetcode.com/problems/median-of-two-sorted-arrays/solution/)\n",
    "\n",
    "The key idea is to find a pivot i in A which splits both arrays into two euqal length parts.\n",
    "```\n",
    "len(A[:i] + B[:j]) == len(A[i:] + B[j:])\n",
    "\n",
    "Such that min(A[:i], B[:j]) <= max(A[i:], B[j:]) or that A[i-1] <= B[j] and A[i] >= B[j - 1]\n",
    "``` \n"
   ]
  },
  {
   "cell_type": "code",
   "execution_count": 14,
   "metadata": {},
   "outputs": [],
   "source": [
    "def findMedianSortedArrays(nums1, nums2):\n",
    "    \"\"\"\n",
    "    :type nums1: List[int]\n",
    "    :type nums2: List[int]\n",
    "    :rtype: float\n",
    "    \"\"\"\n",
    "    m, n = len(nums1), len(nums2)\n",
    "    if m > n:\n",
    "        nums1, nums2, m, n = nums2, nums1, n, m\n",
    "    p, r = 0, m\n",
    "    left = (m + n + 1) // 2\n",
    "    while p <= r:\n",
    "        i = (p + r) // 2\n",
    "        j = left - i\n",
    "        if i > 0 and j < n and nums1[i - 1] > nums2[j]:\n",
    "            r = i - 1\n",
    "        elif j > 0 and i < m and nums1[i] < nums2[j - 1]:\n",
    "            p = i + 1\n",
    "        else: # found!\n",
    "            if i == 0: max_of_left = nums2[j - 1]\n",
    "            elif j == 0: max_of_left = nums1[i - 1]\n",
    "            else: max_of_left = max(nums1[i - 1], nums2[j - 1])\n",
    "                \n",
    "            if (m + n) % 2 == 1:\n",
    "                return max_of_left\n",
    "            \n",
    "            if i == m: min_of_right = nums2[j]\n",
    "            elif j == n: min_of_right = nums1[i]\n",
    "            else: min_of_right = min(nums1[i], nums2[j])\n",
    "                \n",
    "            return (max_of_left + min_of_right) / 2.0"
   ]
  },
  {
   "cell_type": "code",
   "execution_count": 15,
   "metadata": {},
   "outputs": [],
   "source": [
    "def naive_findMedianSortedArrays(nums1, nums2):\n",
    "    i, j, m, n = 0, 0, len(nums1), len(nums2)\n",
    "    nums = []\n",
    "    while i < m or j < n:\n",
    "        if i < m and j < n:\n",
    "            if nums1[i] < nums2[j]:\n",
    "                nums.append(nums1[i])\n",
    "                i += 1\n",
    "            else:\n",
    "                nums.append(nums2[j])\n",
    "                j += 1\n",
    "        elif i < m:\n",
    "            nums.append(nums1[i])\n",
    "            i += 1\n",
    "        else:\n",
    "            nums.append(nums2[j])\n",
    "            j += 1\n",
    "    print(nums)\n",
    "    if len(nums) % 2 == 1:\n",
    "        return nums[len(nums) // 2]\n",
    "    return (nums[len(nums) // 2] + nums[len(nums) // 2 - 1]) / 2"
   ]
  },
  {
   "cell_type": "code",
   "execution_count": 16,
   "metadata": {},
   "outputs": [
    {
     "name": "stdout",
     "output_type": "stream",
     "text": [
      "[1, 2, 3, 5, 5, 6, 6, 7, 7, 8, 8, 9, 9, 10, 10, 200]\n",
      "Pass! M = 7.0\n"
     ]
    }
   ],
   "source": [
    "def run(nums1, nums2):\n",
    "    ret = findMedianSortedArrays(nums1, nums2)\n",
    "    ret2 = naive_findMedianSortedArrays(nums1, nums2)\n",
    "    assert ret == ret2\n",
    "    print(\"Pass! M =\", ret)\n",
    "run([1,2,3,5,6,7,8,9,10,200], [5,6,7, 8, 9, 10])"
   ]
  },
  {
   "cell_type": "code",
   "execution_count": null,
   "metadata": {},
   "outputs": [],
   "source": []
  }
 ],
 "metadata": {
  "kernelspec": {
   "display_name": "Python 3",
   "language": "python",
   "name": "python3"
  },
  "language_info": {
   "codemirror_mode": {
    "name": "ipython",
    "version": 3
   },
   "file_extension": ".py",
   "mimetype": "text/x-python",
   "name": "python",
   "nbconvert_exporter": "python",
   "pygments_lexer": "ipython3",
   "version": "3.6.4"
  }
 },
 "nbformat": 4,
 "nbformat_minor": 2
}
