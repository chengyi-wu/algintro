{
 "cells": [
  {
   "cell_type": "markdown",
   "metadata": {},
   "source": [
    "# Linked List Cycle Detection\n",
    "Given the defition of a linked list, detect if it has a cycle.\n",
    "```Python\n",
    "class ListNode(object):\n",
    "    def __init__(self, x):\n",
    "       self.val = x\n",
    "       self.next = None\n",
    "```\n",
    "Usually, it is done by using a fast and slow pointer, where slow moves one step a time while fast moves two steps a time.\n",
    "```Python\n",
    "slow, fast = head, head\n",
    "while fast is not None or fast.next is not None:\n",
    "    slow = slow.next\n",
    "    fast = fast.next.next\n",
    "```\n",
    "$$\n",
    "\\Delta v = fast - slow = 2 - 1 = 1 \\\\\n",
    "\\frac{\\Delta S}{\\Delta v} = \\frac{\\Delta S}{1} = \\Delta S \\quad (\\Delta S \\space is \\space a \\space whole \\space number)\n",
    "$$\n",
    "\n",
    "Slow pointer and fast pointer will eventually meet at point Z.\n",
    "![Linked List Cycle](LinkedListCycle.jpg)\n",
    "\n",
    "$$\n",
    "2(a + b) = (a + b + c + b) \\quad (fast \\space runs \\space twice \\space as \\space slow) \\\\\n",
    "\\to a = c\n",
    "$$\n",
    "\n",
    "We can find where the cycle begins by rerun the slow pointer from the head one step as the fast start at point Z.\n",
    "\n",
    "```python\n",
    "slow = head\n",
    "while slow != fast:\n",
    "    slow = slow.next\n",
    "    fast = fast.next\n",
    "```"
   ]
  }
 ],
 "metadata": {
  "kernelspec": {
   "display_name": "Python 3",
   "language": "python",
   "name": "python3"
  },
  "language_info": {
   "codemirror_mode": {
    "name": "ipython",
    "version": 3
   },
   "file_extension": ".py",
   "mimetype": "text/x-python",
   "name": "python",
   "nbconvert_exporter": "python",
   "pygments_lexer": "ipython3",
   "version": "3.6.2"
  }
 },
 "nbformat": 4,
 "nbformat_minor": 2
}
