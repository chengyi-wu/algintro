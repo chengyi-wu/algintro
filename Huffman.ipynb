{
 "cells": [
  {
   "cell_type": "markdown",
   "metadata": {},
   "source": [
    "# Huffman codes\n"
   ]
  },
  {
   "cell_type": "code",
   "execution_count": 1,
   "metadata": {},
   "outputs": [],
   "source": [
    "stats={'a':0.01, 'b':0.04, 'c':.05, 'd':.11, 'e':.19, 'f':.20, 'g':.4}\n",
    "\n",
    "class Node(object):\n",
    "    def __init__(self, val = None, freq = 0.0):\n",
    "        self.left = None\n",
    "        self.right = None\n",
    "        self.val = val\n",
    "        self.freq = freq\n",
    "        \n",
    "    def __lt__(self, other):\n",
    "        if self.freq == other.freq:\n",
    "            return len(self.val) > len(other.val)\n",
    "        return self.freq < other.freq\n",
    "                \n",
    "    def __str__(self):\n",
    "        return '(' + self.val + ',' + str(self.freq) +')'\n",
    "    \n",
    "    def __repr__(self):\n",
    "        return self.__str__()"
   ]
  },
  {
   "cell_type": "code",
   "execution_count": 2,
   "metadata": {},
   "outputs": [],
   "source": [
    "def huffman(stats):\n",
    "    import heapq\n",
    "    pq = []\n",
    "    for k in stats:\n",
    "        freq = stats[k] \n",
    "        n = Node(k, freq)\n",
    "        heapq.heappush(pq, n)\n",
    "    for i in range(len(pq) - 1):\n",
    "        z = Node()\n",
    "        z.left = x = heapq.heappop(pq)\n",
    "        z.right = y = heapq.heappop(pq)\n",
    "        z.freq = x.freq + y.freq\n",
    "        z.val = x.val + y.val\n",
    "        heapq.heappush(pq, z)\n",
    "    \n",
    "    return heapq.heappop(pq)"
   ]
  },
  {
   "cell_type": "code",
   "execution_count": 3,
   "metadata": {},
   "outputs": [
    {
     "name": "stdout",
     "output_type": "stream",
     "text": [
      "{'g': '0', 'a': '10000', 'b': '10001', 'c': '1001', 'd': '101', 'e': '110', 'f': '111'}\n"
     ]
    }
   ],
   "source": [
    "codec = {}\n",
    "\n",
    "def encode(root, label=''):\n",
    "    if root is None:\n",
    "        return\n",
    "    if root.left is None and root.right is None:\n",
    "        codec[root.val] = label #int(label,2)\n",
    "    else:\n",
    "        encode(root.left, label + '0')\n",
    "        encode(root.right, label + '1')\n",
    "\n",
    "huffman_tree = huffman(stats)        \n",
    "encode(huffman_tree)\n",
    "print(codec)"
   ]
  },
  {
   "cell_type": "code",
   "execution_count": 4,
   "metadata": {
    "collapsed": true
   },
   "outputs": [],
   "source": [
    "def decode(codec, line):\n",
    "    lookup = {}\n",
    "    for k in codec:\n",
    "        v = codec[k]\n",
    "        lookup[v] = k\n",
    "    buffer = ''\n",
    "    ret = ''\n",
    "    for c in line:\n",
    "        buffer += c\n",
    "        if buffer in lookup:\n",
    "            ret += lookup[buffer]\n",
    "            buffer = ''\n",
    "    return ret"
   ]
  },
  {
   "cell_type": "code",
   "execution_count": 5,
   "metadata": {},
   "outputs": [
    {
     "name": "stdout",
     "output_type": "stream",
     "text": [
      "abbacafebad\n"
     ]
    }
   ],
   "source": [
    "line = '100001000110001100001001100001111101000110000101'\n",
    "print(decode(codec, line))"
   ]
  },
  {
   "cell_type": "code",
   "execution_count": 6,
   "metadata": {},
   "outputs": [],
   "source": [
    "with open('book.txt', 'rb') as f:\n",
    "    read_data = f.read()"
   ]
  },
  {
   "cell_type": "code",
   "execution_count": 7,
   "metadata": {},
   "outputs": [
    {
     "name": "stdout",
     "output_type": "stream",
     "text": [
      "{'T': 0.03, 'H': 0.02, 'E': 0.03, ' ': 0.185, 'A': 0.025, 'D': 0.01, 'V': 0.02, 'N': 0.015, 'U': 0.01, 'R': 0.03, 'S': 0.025, 'O': 0.025, 'F': 0.01, 'L': 0.02, 'C': 0.015, 'K': 0.005, 'M': 0.01, 'b': 0.01, 'y': 0.025, 'I': 0.045, 'Y': 0.005, '\\r': 0.045, '\\n': 0.045, '.': 0.025, 'c': 0.01, 'a': 0.035, 'n': 0.015, 'd': 0.025, 'l': 0.015, 'i': 0.02, 'B': 0.01, 'o': 0.02, 'h': 0.025, 'e': 0.07, 'm': 0.01, '-': 0.005, 'g': 0.005, 'u': 0.005, 's': 0.015, 'f': 0.005, 't': 0.015, 'r': 0.005, 'v': 0.005}\n"
     ]
    }
   ],
   "source": [
    "stats = {}\n",
    "read_data = read_data[:200]\n",
    "for c in read_data:\n",
    "    ch = chr(c)\n",
    "    if ch not in stats:\n",
    "        stats[ch] = 1\n",
    "    else:\n",
    "        stats[ch] += 1\n",
    "        \n",
    "for k in stats:\n",
    "    stats[k] /= len(read_data)\n",
    "    \n",
    "print(stats)"
   ]
  },
  {
   "cell_type": "code",
   "execution_count": 8,
   "metadata": {},
   "outputs": [
    {
     "name": "stdout",
     "output_type": "stream",
     "text": [
      "{' ': '00', 'A': '01000', 'd': '01001', 'O': '01010', '.': '01011', 'S': '01100', 'y': '01101', 't': '011100', 'N': '011101', 'n': '011110', 's': '011111', 'C': '100000', 'l': '100001', 'E': '10001', 'T': '10010', 'R': '10011', 'e': '1010', 'a': '10110', 'v': '10111000', '-': '10111001', 'g': '10111010', 'u': '10111011', 'K': '10111100', 'Y': '10111101', 'f': '10111110', 'r': '10111111', 'c': '1100000', 'D': '1100001', 'M': '1100010', 'm': '1100011', 'U': '1100100', 'b': '1100101', 'F': '1100110', 'B': '1100111', 'V': '110100', 'i': '110101', 'L': '110110', 'o': '110111', 'H': '111000', 'h': '111001', 'I': '11101', '\\r': '11110', '\\n': '11111'}\n"
     ]
    }
   ],
   "source": [
    "huffman_tree = huffman(stats) \n",
    "codec = {}\n",
    "encode(huffman_tree)\n",
    "print(codec)"
   ]
  },
  {
   "cell_type": "code",
   "execution_count": 13,
   "metadata": {},
   "outputs": [
    {
     "name": "stdout",
     "output_type": "stream",
     "text": [
      "10010111000100010001000110000111010010001011101100101100100100111000101100000101011001100001100111000100011001111011001010100000101111000011100001010110110110001010001011000011001010110100011001110110011000100010011100101110001100100100110010000001010011101010000111010011000010101010111101110110100011111011111111101111111110111111111011111111101111100000011101010110001000000110011000001011001111001001101101000010011010101111000110011111011111100110101100011110101101101111011111000011101111010101100100101110011010001001110100100110111001111001101010110010011010010010011011010101011010111010101110111010111101111100111011110111101010110001000001000001011001111110100011011110111110001110101001101001111001110011010101110001101111101111100001110111010001011001001011100110100011001111101110111111100000110111110001111001011010001101001011010000110000110100110100110001001101011111011100101010111111011011111011111000000110100010110010010111001101000110011011010110111000\n"
     ]
    }
   ],
   "source": [
    "line = ''\n",
    "for c in read_data:\n",
    "    ch = chr(c)\n",
    "    line += codec[ch]\n",
    "print(line)"
   ]
  },
  {
   "cell_type": "code",
   "execution_count": 14,
   "metadata": {},
   "outputs": [
    {
     "name": "stdout",
     "output_type": "stream",
     "text": [
      "THE ADVENTURES OF SHERLOCK HOLMES by SIR ARTHUR CONAN DOYLE\r\n",
      "\r\n",
      "\r\n",
      "\r\n",
      "\r\n",
      "   I. A Scandal in Bohemia\r\n",
      "  II. The Red-headed League\r\n",
      " III. A Case of Identity\r\n",
      "  IV. The Boscombe Valley Mystery\r\n",
      "   V. The Fiv\n"
     ]
    }
   ],
   "source": [
    "print(decode(codec, line))"
   ]
  },
  {
   "cell_type": "code",
   "execution_count": null,
   "metadata": {
    "collapsed": true
   },
   "outputs": [],
   "source": []
  }
 ],
 "metadata": {
  "kernelspec": {
   "display_name": "Python 3",
   "language": "python",
   "name": "python3"
  },
  "language_info": {
   "codemirror_mode": {
    "name": "ipython",
    "version": 3
   },
   "file_extension": ".py",
   "mimetype": "text/x-python",
   "name": "python",
   "nbconvert_exporter": "python",
   "pygments_lexer": "ipython3",
   "version": "3.6.1"
  }
 },
 "nbformat": 4,
 "nbformat_minor": 2
}
